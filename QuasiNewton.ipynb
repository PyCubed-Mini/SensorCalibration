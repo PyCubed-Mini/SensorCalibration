{
 "cells": [
  {
   "cell_type": "code",
   "execution_count": 1,
   "metadata": {},
   "outputs": [],
   "source": [
    "using LinearAlgebra, Statistics, Random, Plots, AllanDeviations"
   ]
  },
  {
   "cell_type": "code",
   "execution_count": 2,
   "metadata": {},
   "outputs": [],
   "source": [
    "#Generate Synthetic Data from a 2nd order linear system (you can relax the assumptions I made and fit more parameters)\n",
    "dt = 0.05\n",
    "N = 100000\n",
    "w = randn(2,N)\n",
    "k = 0.1;\n",
    "c = 1.0;\n",
    "d = 0.1\n",
    "q = 0.01;\n",
    "r = 0.01;\n",
    "Ac = [0 1; -k -c];\n",
    "Bc = [0 0; q 0];\n",
    "ABd = exp(dt*[Ac Bc; zeros(2,4)])\n",
    "A = ABd[1:2,1:2]\n",
    "B = ABd[1:2,3:4]\n",
    "C = [1 d];\n",
    "D = [0 r];\n",
    "x = zeros(2,N)\n",
    "y = zeros(N);\n",
    "for k = 1:(N-1)\n",
    "    x[:,k+1] = A*x[:,k] + B*w[:,k]\n",
    "end\n",
    "for k = 1:N\n",
    "    y[k] = (C*x[:,k] + D*w[:,k])[1];\n",
    "end"
   ]
  },
  {
   "cell_type": "code",
   "execution_count": 3,
   "metadata": {},
   "outputs": [
    {
     "data": {
      "image/svg+xml": [
       "<?xml version=\"1.0\" encoding=\"utf-8\"?>\n",
       "<svg xmlns=\"http://www.w3.org/2000/svg\" xmlns:xlink=\"http://www.w3.org/1999/xlink\" width=\"600\" height=\"400\" viewBox=\"0 0 2400 1600\">\n",
       "<defs>\n",
       "  <clipPath id=\"clip9300\">\n",
       "    <rect x=\"0\" y=\"0\" width=\"2400\" height=\"1600\"/>\n",
       "  </clipPath>\n",
       "</defs>\n",
       "<path clip-path=\"url(#clip9300)\" d=\"\n",
       "M0 1600 L2400 1600 L2400 0 L0 0  Z\n",
       "  \" fill=\"#ffffff\" fill-rule=\"evenodd\" fill-opacity=\"1\"/>\n",
       "<defs>\n",
       "  <clipPath id=\"clip9301\">\n",
       "    <rect x=\"480\" y=\"0\" width=\"1681\" height=\"1600\"/>\n",
       "  </clipPath>\n",
       "</defs>\n",
       "<path clip-path=\"url(#clip9300)\" d=\"\n",
       "M182.008 1487.47 L2352.76 1487.47 L2352.76 47.2441 L182.008 47.2441  Z\n",
       "  \" fill=\"#ffffff\" fill-rule=\"evenodd\" fill-opacity=\"1\"/>\n",
       "<defs>\n",
       "  <clipPath id=\"clip9302\">\n",
       "    <rect x=\"182\" y=\"47\" width=\"2172\" height=\"1441\"/>\n",
       "  </clipPath>\n",
       "</defs>\n",
       "<polyline clip-path=\"url(#clip9302)\" style=\"stroke:#000000; stroke-width:2; stroke-opacity:0.1; fill:none\" points=\"\n",
       "  243.444,1487.47 243.444,47.2441 \n",
       "  \"/>\n",
       "<polyline clip-path=\"url(#clip9302)\" style=\"stroke:#000000; stroke-width:2; stroke-opacity:0.1; fill:none\" points=\"\n",
       "  926.069,1487.47 926.069,47.2441 \n",
       "  \"/>\n",
       "<polyline clip-path=\"url(#clip9302)\" style=\"stroke:#000000; stroke-width:2; stroke-opacity:0.1; fill:none\" points=\"\n",
       "  1608.69,1487.47 1608.69,47.2441 \n",
       "  \"/>\n",
       "<polyline clip-path=\"url(#clip9302)\" style=\"stroke:#000000; stroke-width:2; stroke-opacity:0.1; fill:none\" points=\"\n",
       "  2291.32,1487.47 2291.32,47.2441 \n",
       "  \"/>\n",
       "<polyline clip-path=\"url(#clip9302)\" style=\"stroke:#000000; stroke-width:2; stroke-opacity:0.1; fill:none\" points=\"\n",
       "  182.008,1309.67 2352.76,1309.67 \n",
       "  \"/>\n",
       "<polyline clip-path=\"url(#clip9302)\" style=\"stroke:#000000; stroke-width:2; stroke-opacity:0.1; fill:none\" points=\"\n",
       "  182.008,1105.94 2352.76,1105.94 \n",
       "  \"/>\n",
       "<polyline clip-path=\"url(#clip9302)\" style=\"stroke:#000000; stroke-width:2; stroke-opacity:0.1; fill:none\" points=\"\n",
       "  182.008,902.209 2352.76,902.209 \n",
       "  \"/>\n",
       "<polyline clip-path=\"url(#clip9302)\" style=\"stroke:#000000; stroke-width:2; stroke-opacity:0.1; fill:none\" points=\"\n",
       "  182.008,698.476 2352.76,698.476 \n",
       "  \"/>\n",
       "<polyline clip-path=\"url(#clip9302)\" style=\"stroke:#000000; stroke-width:2; stroke-opacity:0.1; fill:none\" points=\"\n",
       "  182.008,494.744 2352.76,494.744 \n",
       "  \"/>\n",
       "<polyline clip-path=\"url(#clip9302)\" style=\"stroke:#000000; stroke-width:2; stroke-opacity:0.1; fill:none\" points=\"\n",
       "  182.008,291.011 2352.76,291.011 \n",
       "  \"/>\n",
       "<polyline clip-path=\"url(#clip9302)\" style=\"stroke:#000000; stroke-width:2; stroke-opacity:0.1; fill:none\" points=\"\n",
       "  182.008,87.2781 2352.76,87.2781 \n",
       "  \"/>\n",
       "<polyline clip-path=\"url(#clip9300)\" style=\"stroke:#000000; stroke-width:4; stroke-opacity:1; fill:none\" points=\"\n",
       "  182.008,1487.47 2352.76,1487.47 \n",
       "  \"/>\n",
       "<polyline clip-path=\"url(#clip9300)\" style=\"stroke:#000000; stroke-width:4; stroke-opacity:1; fill:none\" points=\"\n",
       "  182.008,1487.47 182.008,47.2441 \n",
       "  \"/>\n",
       "<polyline clip-path=\"url(#clip9300)\" style=\"stroke:#000000; stroke-width:4; stroke-opacity:1; fill:none\" points=\"\n",
       "  243.444,1487.47 243.444,1470.19 \n",
       "  \"/>\n",
       "<polyline clip-path=\"url(#clip9300)\" style=\"stroke:#000000; stroke-width:4; stroke-opacity:1; fill:none\" points=\"\n",
       "  926.069,1487.47 926.069,1470.19 \n",
       "  \"/>\n",
       "<polyline clip-path=\"url(#clip9300)\" style=\"stroke:#000000; stroke-width:4; stroke-opacity:1; fill:none\" points=\"\n",
       "  1608.69,1487.47 1608.69,1470.19 \n",
       "  \"/>\n",
       "<polyline clip-path=\"url(#clip9300)\" style=\"stroke:#000000; stroke-width:4; stroke-opacity:1; fill:none\" points=\"\n",
       "  2291.32,1487.47 2291.32,1470.19 \n",
       "  \"/>\n",
       "<polyline clip-path=\"url(#clip9300)\" style=\"stroke:#000000; stroke-width:4; stroke-opacity:1; fill:none\" points=\"\n",
       "  182.008,1309.67 208.057,1309.67 \n",
       "  \"/>\n",
       "<polyline clip-path=\"url(#clip9300)\" style=\"stroke:#000000; stroke-width:4; stroke-opacity:1; fill:none\" points=\"\n",
       "  182.008,1105.94 208.057,1105.94 \n",
       "  \"/>\n",
       "<polyline clip-path=\"url(#clip9300)\" style=\"stroke:#000000; stroke-width:4; stroke-opacity:1; fill:none\" points=\"\n",
       "  182.008,902.209 208.057,902.209 \n",
       "  \"/>\n",
       "<polyline clip-path=\"url(#clip9300)\" style=\"stroke:#000000; stroke-width:4; stroke-opacity:1; fill:none\" points=\"\n",
       "  182.008,698.476 208.057,698.476 \n",
       "  \"/>\n",
       "<polyline clip-path=\"url(#clip9300)\" style=\"stroke:#000000; stroke-width:4; stroke-opacity:1; fill:none\" points=\"\n",
       "  182.008,494.744 208.057,494.744 \n",
       "  \"/>\n",
       "<polyline clip-path=\"url(#clip9300)\" style=\"stroke:#000000; stroke-width:4; stroke-opacity:1; fill:none\" points=\"\n",
       "  182.008,291.011 208.057,291.011 \n",
       "  \"/>\n",
       "<polyline clip-path=\"url(#clip9300)\" style=\"stroke:#000000; stroke-width:4; stroke-opacity:1; fill:none\" points=\"\n",
       "  182.008,87.2781 208.057,87.2781 \n",
       "  \"/>\n",
       "<g clip-path=\"url(#clip9300)\">\n",
       "<text style=\"fill:#000000; fill-opacity:1; font-family:Arial,Helvetica Neue,Helvetica,sans-serif; font-size:48px; text-anchor:start;\" transform=\"rotate(0, 205.81, 1562.48)\" x=\"205.81\" y=\"1562.48\">10</text>\n",
       "</g>\n",
       "<g clip-path=\"url(#clip9300)\">\n",
       "<text style=\"fill:#000000; fill-opacity:1; font-family:Arial,Helvetica Neue,Helvetica,sans-serif; font-size:38px; text-anchor:start;\" transform=\"rotate(0, 259.334, 1535.07)\" x=\"259.334\" y=\"1535.07\">0</text>\n",
       "</g>\n",
       "<g clip-path=\"url(#clip9300)\">\n",
       "<text style=\"fill:#000000; fill-opacity:1; font-family:Arial,Helvetica Neue,Helvetica,sans-serif; font-size:48px; text-anchor:start;\" transform=\"rotate(0, 888.435, 1562.48)\" x=\"888.435\" y=\"1562.48\">10</text>\n",
       "</g>\n",
       "<g clip-path=\"url(#clip9300)\">\n",
       "<text style=\"fill:#000000; fill-opacity:1; font-family:Arial,Helvetica Neue,Helvetica,sans-serif; font-size:38px; text-anchor:start;\" transform=\"rotate(0, 941.96, 1535.07)\" x=\"941.96\" y=\"1535.07\">1</text>\n",
       "</g>\n",
       "<g clip-path=\"url(#clip9300)\">\n",
       "<text style=\"fill:#000000; fill-opacity:1; font-family:Arial,Helvetica Neue,Helvetica,sans-serif; font-size:48px; text-anchor:start;\" transform=\"rotate(0, 1571.06, 1562.48)\" x=\"1571.06\" y=\"1562.48\">10</text>\n",
       "</g>\n",
       "<g clip-path=\"url(#clip9300)\">\n",
       "<text style=\"fill:#000000; fill-opacity:1; font-family:Arial,Helvetica Neue,Helvetica,sans-serif; font-size:38px; text-anchor:start;\" transform=\"rotate(0, 1624.58, 1535.07)\" x=\"1624.58\" y=\"1535.07\">2</text>\n",
       "</g>\n",
       "<g clip-path=\"url(#clip9300)\">\n",
       "<text style=\"fill:#000000; fill-opacity:1; font-family:Arial,Helvetica Neue,Helvetica,sans-serif; font-size:48px; text-anchor:start;\" transform=\"rotate(0, 2253.69, 1562.48)\" x=\"2253.69\" y=\"1562.48\">10</text>\n",
       "</g>\n",
       "<g clip-path=\"url(#clip9300)\">\n",
       "<text style=\"fill:#000000; fill-opacity:1; font-family:Arial,Helvetica Neue,Helvetica,sans-serif; font-size:38px; text-anchor:start;\" transform=\"rotate(0, 2307.21, 1535.07)\" x=\"2307.21\" y=\"1535.07\">3</text>\n",
       "</g>\n",
       "<g clip-path=\"url(#clip9300)\">\n",
       "<text style=\"fill:#000000; fill-opacity:1; font-family:Arial,Helvetica Neue,Helvetica,sans-serif; font-size:48px; text-anchor:end;\" transform=\"rotate(0, 158.008, 1327.17)\" x=\"158.008\" y=\"1327.17\">-2.6</text>\n",
       "</g>\n",
       "<g clip-path=\"url(#clip9300)\">\n",
       "<text style=\"fill:#000000; fill-opacity:1; font-family:Arial,Helvetica Neue,Helvetica,sans-serif; font-size:48px; text-anchor:end;\" transform=\"rotate(0, 158.008, 1123.44)\" x=\"158.008\" y=\"1123.44\">-2.5</text>\n",
       "</g>\n",
       "<g clip-path=\"url(#clip9300)\">\n",
       "<text style=\"fill:#000000; fill-opacity:1; font-family:Arial,Helvetica Neue,Helvetica,sans-serif; font-size:48px; text-anchor:end;\" transform=\"rotate(0, 158.008, 919.709)\" x=\"158.008\" y=\"919.709\">-2.4</text>\n",
       "</g>\n",
       "<g clip-path=\"url(#clip9300)\">\n",
       "<text style=\"fill:#000000; fill-opacity:1; font-family:Arial,Helvetica Neue,Helvetica,sans-serif; font-size:48px; text-anchor:end;\" transform=\"rotate(0, 158.008, 715.976)\" x=\"158.008\" y=\"715.976\">-2.3</text>\n",
       "</g>\n",
       "<g clip-path=\"url(#clip9300)\">\n",
       "<text style=\"fill:#000000; fill-opacity:1; font-family:Arial,Helvetica Neue,Helvetica,sans-serif; font-size:48px; text-anchor:end;\" transform=\"rotate(0, 158.008, 512.244)\" x=\"158.008\" y=\"512.244\">-2.2</text>\n",
       "</g>\n",
       "<g clip-path=\"url(#clip9300)\">\n",
       "<text style=\"fill:#000000; fill-opacity:1; font-family:Arial,Helvetica Neue,Helvetica,sans-serif; font-size:48px; text-anchor:end;\" transform=\"rotate(0, 158.008, 308.511)\" x=\"158.008\" y=\"308.511\">-2.1</text>\n",
       "</g>\n",
       "<g clip-path=\"url(#clip9300)\">\n",
       "<text style=\"fill:#000000; fill-opacity:1; font-family:Arial,Helvetica Neue,Helvetica,sans-serif; font-size:48px; text-anchor:end;\" transform=\"rotate(0, 158.008, 104.778)\" x=\"158.008\" y=\"104.778\">-2.0</text>\n",
       "</g>\n",
       "<polyline clip-path=\"url(#clip9302)\" style=\"stroke:#009af9; stroke-width:4; stroke-opacity:1; fill:none\" points=\"\n",
       "  243.444,88.0053 448.935,394.216 654.426,705.278 820.329,956.318 980.121,1184.24 1131.56,1356.61 1280.02,1446.71 1426.02,1416.41 1570.8,1317.13 1714.73,1207.84 \n",
       "  1859.46,1118.68 2003.69,1074.49 2147.2,1073.24 2291.32,1170.74 \n",
       "  \"/>\n",
       "<path clip-path=\"url(#clip9300)\" d=\"\n",
       "M1989.93 251.724 L2280.76 251.724 L2280.76 130.764 L1989.93 130.764  Z\n",
       "  \" fill=\"#ffffff\" fill-rule=\"evenodd\" fill-opacity=\"1\"/>\n",
       "<polyline clip-path=\"url(#clip9300)\" style=\"stroke:#000000; stroke-width:4; stroke-opacity:1; fill:none\" points=\"\n",
       "  1989.93,251.724 2280.76,251.724 2280.76,130.764 1989.93,130.764 1989.93,251.724 \n",
       "  \"/>\n",
       "<polyline clip-path=\"url(#clip9300)\" style=\"stroke:#009af9; stroke-width:4; stroke-opacity:1; fill:none\" points=\"\n",
       "  2013.93,191.244 2157.93,191.244 \n",
       "  \"/>\n",
       "<g clip-path=\"url(#clip9300)\">\n",
       "<text style=\"fill:#000000; fill-opacity:1; font-family:Arial,Helvetica Neue,Helvetica,sans-serif; font-size:48px; text-anchor:start;\" transform=\"rotate(0, 2181.93, 208.744)\" x=\"2181.93\" y=\"208.744\">y1</text>\n",
       "</g>\n",
       "</svg>\n"
      ]
     },
     "execution_count": 3,
     "metadata": {},
     "output_type": "execute_result"
    }
   ],
   "source": [
    "bins = 20\n",
    "τ_max = floor(N/100) #Note I'm not going too high on this to avoid the noisy tail\n",
    "τ = Int.(floor.(10.0.^range(log10(.1), log10(τ_max), length=bins)))\n",
    "ay = allandev(y, 1.0, frequency=true, taus=Float64.(τ))\n",
    "truth = log10.(ay[:deviation]);\n",
    "plot(ay[:tau], truth, xaxis=:log)"
   ]
  },
  {
   "cell_type": "code",
   "execution_count": 4,
   "metadata": {},
   "outputs": [
    {
     "data": {
      "text/plain": [
       "logErrors (generic function with 1 method)"
      ]
     },
     "execution_count": 4,
     "metadata": {},
     "output_type": "execute_result"
    }
   ],
   "source": [
    "#This returns the vector of errors that you're trying to drive to zero (rather than the least-squares objective)\n",
    "#This is better numerically than trying to solve the least-squares problem directly\n",
    "function logErrors(p)\n",
    "    dt = 0.05\n",
    "    N = 100000\n",
    "    w = randn(2,N)\n",
    "    k = p[1]\n",
    "    c = p[2]\n",
    "    d = p[3]\n",
    "    q = p[4]\n",
    "    r = p[5]\n",
    "    Ac = [0 1; -k -c];\n",
    "    Bc = [0 0; q 0];\n",
    "    ABd = exp(dt*[Ac Bc; zeros(2,4)])\n",
    "    A = ABd[1:2,1:2]\n",
    "    B = ABd[1:2,3:4]\n",
    "    C = [1 d];\n",
    "    D = [0 r];\n",
    "    x = zeros(2,N)\n",
    "    y = zeros(N);\n",
    "    for k = 1:(N-1)\n",
    "        x[:,k+1] = A*x[:,k] + B*w[:,k]\n",
    "    end\n",
    "    for k = 1:N\n",
    "        y[k] = (C*x[:,k] + D*w[:,k])[1];\n",
    "    end\n",
    "    bins = 20\n",
    "    τ_max = floor(N/100)\n",
    "    τ = Int.(floor.(10.0.^range(log10(.1), log10(τ_max), length=bins)))\n",
    "    ay = allandev(y, 1.0, frequency=true, taus=Float64.(τ))\n",
    "    return log10.(ay[:deviation]) - truth\n",
    "end"
   ]
  },
  {
   "cell_type": "code",
   "execution_count": 5,
   "metadata": {},
   "outputs": [
    {
     "data": {
      "text/plain": [
       "avgErrors (generic function with 1 method)"
      ]
     },
     "execution_count": 5,
     "metadata": {},
     "output_type": "execute_result"
    }
   ],
   "source": [
    "#Average several calls to the error function to smooth things out\n",
    "function avgErrors(p)\n",
    "    Ne = length(logErrors(p))\n",
    "    Np = length(p)\n",
    "    Nsamp = 10*Np\n",
    "    E0 = zeros(Ne)\n",
    "    for k = 1:Nsamp\n",
    "        E0 = E0 + logErrors(p)/Nsamp\n",
    "    end\n",
    "    return E0\n",
    "end"
   ]
  },
  {
   "cell_type": "code",
   "execution_count": 6,
   "metadata": {},
   "outputs": [
    {
     "data": {
      "text/plain": [
       "sampleJacobian (generic function with 1 method)"
      ]
     },
     "execution_count": 6,
     "metadata": {},
     "output_type": "execute_result"
    }
   ],
   "source": [
    "#This function computes a sample-based approximate Jacobian in the spirit of CMA\n",
    "#Note this is pretty expensive, so we want to recycle it several times in our quasi-Newton method\n",
    "function sampleJacobian(p)\n",
    "    Ne = length(logErrors(p))\n",
    "    Np = length(p)\n",
    "    Nsamp = 10*Np\n",
    "    D = zeros(Np,Nsamp)\n",
    "    E = zeros(Ne,Nsamp)\n",
    "    E0 = avgErrors(p)\n",
    "    for k = 1:Nsamp\n",
    "        D[:,k] = 0.01*randn(Np)\n",
    "        E[:,k] = (logErrors(p+D[:,k]) - E0)\n",
    "    end\n",
    "    J = reshape(kron(D',Matrix(I,Ne,Ne))\\vec(E),Ne,Np)\n",
    "end"
   ]
  },
  {
   "cell_type": "code",
   "execution_count": 7,
   "metadata": {},
   "outputs": [
    {
     "data": {
      "text/plain": [
       "5-element Array{Float64,1}:\n",
       " 0.1\n",
       " 0.5\n",
       " 0.2\n",
       " 0.1\n",
       " 0.1"
      ]
     },
     "execution_count": 7,
     "metadata": {},
     "output_type": "execute_result"
    }
   ],
   "source": [
    "p = [0.1; 0.5; 0.2; 0.1; 0.1] #starting guess at parameter vector"
   ]
  },
  {
   "cell_type": "code",
   "execution_count": 8,
   "metadata": {},
   "outputs": [
    {
     "data": {
      "text/plain": [
       "14-element Array{Float64,1}:\n",
       " 1.0003036520324637\n",
       " 0.9998915302862762\n",
       " 1.003281842900856 \n",
       " 1.008519635873994 \n",
       " 1.0186645534611851\n",
       " 1.046471939928705 \n",
       " 1.111107014258465 \n",
       " 1.184461386082593 \n",
       " 1.236237222318637 \n",
       " 1.2489363686653174\n",
       " 1.2122571683115144\n",
       " 1.1402527697315374\n",
       " 1.058396812954924 \n",
       " 1.0135849611649639"
      ]
     },
     "execution_count": 8,
     "metadata": {},
     "output_type": "execute_result"
    }
   ],
   "source": [
    "e = avgErrors(p) #initial error vector"
   ]
  },
  {
   "cell_type": "code",
   "execution_count": 56,
   "metadata": {},
   "outputs": [],
   "source": [
    "J = sampleJacobian(p); #compute Jacobian "
   ]
  },
  {
   "cell_type": "code",
   "execution_count": 61,
   "metadata": {},
   "outputs": [
    {
     "data": {
      "text/plain": [
       "5-element Array{Float64,1}:\n",
       " 0.06466168110021103  \n",
       " 0.7273311322797283   \n",
       " 0.2860902873939201   \n",
       " 0.0067842118089359305\n",
       " 0.009152493261061628 "
      ]
     },
     "execution_count": 61,
     "metadata": {},
     "output_type": "execute_result"
    }
   ],
   "source": [
    "p = p - 0.1*(J\\e) #update p with a damped Newton step"
   ]
  },
  {
   "cell_type": "code",
   "execution_count": 62,
   "metadata": {},
   "outputs": [
    {
     "data": {
      "text/plain": [
       "14-element Array{Float64,1}:\n",
       " -0.03805068087858432  \n",
       " -0.040184659763198294 \n",
       " -0.037716338224532464 \n",
       " -0.03351734408840068  \n",
       " -0.027573978047939374 \n",
       " -0.030899753062015645 \n",
       " -0.03736095179160115  \n",
       " -0.030511780528229338 \n",
       " -0.021543465149193253 \n",
       " -0.010668739852530251 \n",
       "  0.0029086586248743274\n",
       "  0.016977853738213255 \n",
       "  0.017644575459532685 \n",
       "  0.02040559398268993  "
      ]
     },
     "execution_count": 62,
     "metadata": {},
     "output_type": "execute_result"
    }
   ],
   "source": [
    "e = logErrors(p) #compute new error vector"
   ]
  },
  {
   "cell_type": "code",
   "execution_count": null,
   "metadata": {},
   "outputs": [],
   "source": []
  },
  {
   "cell_type": "code",
   "execution_count": null,
   "metadata": {},
   "outputs": [],
   "source": [
    "#Looking at statistics of Allan Variance to see how bad the variance is between function calls\n",
    "Nsamp = 1000\n",
    "E = zeros(14,Nsamp)\n",
    "E0 = zeros(14)\n",
    "for k = 1:Nsamp\n",
    "    E[:,k] = logErrors(p)\n",
    "    E0 = E0 + E[:,k]/Nsamp\n",
    "end\n",
    "S = zeros(14,14)\n",
    "for k = 1:Nsamp\n",
    "    S = S + (1/Nsamp)*(E[:,k]-E0)*(E[:,k]-E0)'\n",
    "end"
   ]
  },
  {
   "cell_type": "code",
   "execution_count": null,
   "metadata": {},
   "outputs": [],
   "source": [
    "#Compute Allan Variance myself to sanity check things\n",
    "bins = 20\n",
    "τ_max = floor(N/10)\n",
    "τ = Int.(floor.(10.0.^range(log10(2.5), log10(τ_max), length=bins)))\n",
    "av = zeros(bins);\n",
    "for j = 1:bins\n",
    "    Nr = N-τ[j]+1\n",
    "    r = zeros(Nr) #running avg.\n",
    "    r[1] = sum(y[1:τ[j]])/τ[j]\n",
    "    for k = 2:Nr\n",
    "        r[k] = r[k-1] + (y[(k-1)+τ[j]] - y[k-1])/τ[j]\n",
    "    end\n",
    "    av[j] = sqrt(cov(r))\n",
    "end\n",
    "plot(τ,av,xaxis=:log,yaxis=:log)"
   ]
  }
 ],
 "metadata": {
  "kernelspec": {
   "display_name": "Julia 1.3.1",
   "language": "julia",
   "name": "julia-1.3"
  },
  "language_info": {
   "file_extension": ".jl",
   "mimetype": "application/julia",
   "name": "julia",
   "version": "1.3.1"
  }
 },
 "nbformat": 4,
 "nbformat_minor": 2
}
