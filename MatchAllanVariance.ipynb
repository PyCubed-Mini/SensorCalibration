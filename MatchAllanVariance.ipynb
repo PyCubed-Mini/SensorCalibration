{
 "cells": [
  {
   "cell_type": "code",
   "execution_count": 4,
   "metadata": {},
   "outputs": [],
   "source": [
    "using ControlSystemIdentification, CSV, Random, Plots, DataFrames, Optim"
   ]
  },
  {
   "cell_type": "code",
   "execution_count": 2,
   "metadata": {
    "collapsed": true
   },
   "outputs": [],
   "source": [
    "data = CSV.read(\"data/bmx160_stationary_15hr.csv\");"
   ]
  },
  {
   "cell_type": "markdown",
   "metadata": {},
   "source": [
    "## Try ControlSystemIdentification first\n",
    "#### With this method, either I'm not getting the result I want or I'm not using that result right. In any case the system doesn't look like it should"
   ]
  },
  {
   "cell_type": "code",
   "execution_count": 23,
   "metadata": {
    "scrolled": false
   },
   "outputs": [
    {
     "data": {
      "text/plain": [
       "ControlSystemIdentification.N4SIDResult(ControlSystems.StateSpace{Float64,Array{Float64,2}}\n",
       "A = \n",
       " 0.9999925091392116       0.02066264486955502  -0.00030777956580522493\n",
       " 0.00034598574532756517   0.1263745472451653    0.40578917814714693   \n",
       " 5.3785688492604346e-5   -0.4057230539519991    0.07041125940218443   \n",
       "B = \n",
       " -2.3828304512222834e9 \n",
       " -1.043036587391571e10 \n",
       " -3.2455616820256035e10\n",
       "C = \n",
       " -11.284103136815745  2.806529586847635  -0.13676292500953846\n",
       "D = \n",
       " -1.4369780266069094e10\n",
       "\n",
       "Sample Time: 1.0 (seconds)\n",
       "Discrete-time state-space model, [3.759738082345358e-8 -5.671998833454202e-7 -2.6134871448408427e-8; -5.671998833454202e-7 8.556867466103765e-6 3.9436226893039207e-7; -2.6134871448408427e-8 3.943622689303921e-7 2.2683269976272746e-8], [0.00016619688348979886], [-2.49970943340329e-6; 3.771103173875617e-5; 1.7391700842818772e-6], [-0.016601557395804826; 0.14519809846345297; -0.03810302174541365], [1.1434600850942365e-7 -5.7092664466895e-7 3.47199936849745e-8; -5.7092664466895e-7 8.807834936288309e-6 1.2072612766454534e-7; 3.47199936849745e-8 1.2072612766454534e-7 9.1139928052409e-7], [1655.0049832532916, 8.920587440763056, 1.4892380711617454, 0.11691924636120472, 0.10114490630943511, 0.08970294847476094, 0.07385581735452751, 0.07102372951461898, 0.05676159617904174, 0.040955049290831394, 0.030497079699979574, 0.02683431982590836, 0.0177371667711793], 0.9996245997878498)"
      ]
     },
     "execution_count": 23,
     "metadata": {},
     "output_type": "execute_result"
    }
   ],
   "source": [
    "# Start with just the x coord:\n",
    "# y, t = data[:, [:gyrox, :dt]]\n",
    "y = data[:, :gyroz]\n",
    "# y = Matrix(y)\n",
    "u = eps() .* randn(size(y)...) # to avoid singularity give a small input\n",
    "sys = n4sid(y, u, 3)\n",
    "# sys = pem(y, u, nx = 3)"
   ]
  },
  {
   "cell_type": "code",
   "execution_count": null,
   "metadata": {},
   "outputs": [],
   "source": []
  },
  {
   "cell_type": "code",
   "execution_count": null,
   "metadata": {},
   "outputs": [],
   "source": [
    "# # simulation:\n",
    "function sim_undriven_system(A, C, K, s=1.0; T = 100, x0 = zeros(axes(A, 2)))\n",
    "    x = x0\n",
    "    Y = zeros(T)\n",
    "    \n",
    "    for i in 1:T\n",
    "        e = randn()\n",
    "        Y[i] = C*x + s*e\n",
    "\n",
    "        x .= A*x + K*e\n",
    "    end\n",
    "    return Y\n",
    "end\n",
    "\n",
    "Y = sim_undriven_system(sys.sys.A, vec(sys.sys.C)', vec(sys.K), 0.0001, T = 10^8);\n",
    "# plot(Y[range(1, size(Y, 1), step = 1000), :])\n",
    "# using ControlSystems\n",
    "# lsim(sys.sys, u, 1:10^5)"
   ]
  },
  {
   "cell_type": "markdown",
   "metadata": {},
   "source": [
    "# Looks nothing like what we want, so what's the deal??\n",
    "\n",
    "#### Note this is only done for 10^6 steps, but I've also done with 10^8 and it still looks way off. It's also totally different each time you run it (which is not how it should be). I also tried with small values of s since that's definitely what's throwing it off"
   ]
  },
  {
   "cell_type": "code",
   "execution_count": null,
   "metadata": {},
   "outputs": [],
   "source": [
    "using AllanDeviations\n",
    "\n",
    "res = allandev(Y[:, 1], 1.0, frequency = true)\n",
    "plot(res.tau, res.deviation, scale = :log10)"
   ]
  },
  {
   "cell_type": "code",
   "execution_count": 65,
   "metadata": {},
   "outputs": [
    {
     "data": {
      "text/plain": [
       " * Status: failure (reached maximum number of iterations) (line search failed)\n",
       "\n",
       " * Candidate solution\n",
       "    Minimizer: [3.23e-01, 4.48e-01, 1.04e+00,  ...]\n",
       "    Minimum:   2.160151e-01\n",
       "\n",
       " * Found with\n",
       "    Algorithm:     Nelder-Mead\n",
       "    Initial Point: [3.24e-01, 2.76e-01, 7.97e-01,  ...]\n",
       "\n",
       " * Convergence measures\n",
       "    √(Σ(yᵢ-ȳ)²)/n ≰ 1.0e-08\n",
       "\n",
       " * Work counters\n",
       "    Seconds run:   1  (vs limit Inf)\n",
       "    Iterations:    1000\n",
       "    f(x) calls:    2984\n"
      ]
     },
     "execution_count": 65,
     "metadata": {},
     "output_type": "execute_result"
    }
   ],
   "source": [
    "#= process:\n",
    "- start with some initial values of (A, C, K, s)\n",
    "- simulate the system (linear+whitenoise blah blah)\n",
    "- calculate the allan variance\n",
    "- use the allan variance to calculate the loss\n",
    "    - e.g. RMS difference at each point, or pick knots.\n",
    "- optimize based on loss\n",
    "    - flatten the matrices into a big vector opt_vars\n",
    "    - that's the input (x) to the optimization problem\n",
    "\n",
    "=#\n",
    "\n",
    "function unpack(x, n)\n",
    "    # vars always have the form:\n",
    "    # A - n x n\n",
    "    # C - 1 x n\n",
    "    # K - n x 1\n",
    "    # s - scalar\n",
    "    s = last(x)\n",
    "    A = reshape(x[1:n^2], n, n)\n",
    "    C = x[(n^2 + 1):(n^2 + n)]'\n",
    "    K = x[(n^2 + n + 1):end-1]\n",
    "    return A, C, K, s\n",
    "end\n",
    "\n",
    "function opt_func(x, actual_dev, T = 10^5, order = 3)\n",
    "    \n",
    "    A, C, K, s = unpack(x, order)\n",
    "    \n",
    "    Y = sim_undriven_system(A, C, K, s; T = T, x0 = zeros(axes(A, 2)))\n",
    "    dev = allandev(Y, 0.05).deviation\n",
    "    \n",
    "    loss = rms(dev .- actual_dev)\n",
    "end\n",
    "\n",
    "order = 3\n",
    "x0 = randn(order^2 + 2*order + 1)\n",
    "T = 10^3\n",
    "dat = data[1:T, :gyroz]\n",
    "actual_dev = allandev(dat, 0.05)\n",
    "rms(x) = sqrt(mapreduce(abs2, +, x)) # helper for root mean square\n",
    "\n",
    "optimize(x->opt_func(x, actual_dev.deviation, T, order), x0)\n",
    "\n"
   ]
  },
  {
   "cell_type": "code",
   "execution_count": null,
   "metadata": {
    "collapsed": true
   },
   "outputs": [],
   "source": []
  }
 ],
 "metadata": {
  "@webio": {
   "lastCommId": null,
   "lastKernelId": null
  },
  "kernelspec": {
   "display_name": "Julia 1.2.0",
   "language": "julia",
   "name": "julia-1.2"
  },
  "language_info": {
   "file_extension": ".jl",
   "mimetype": "application/julia",
   "name": "julia",
   "version": "1.2.0"
  }
 },
 "nbformat": 4,
 "nbformat_minor": 2
}
